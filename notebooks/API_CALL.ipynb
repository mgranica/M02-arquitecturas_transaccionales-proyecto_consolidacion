{
 "cells": [
  {
   "cell_type": "code",
   "execution_count": 1,
   "id": "8cdc4ee9-4ce8-4156-8e9b-c33ef981715a",
   "metadata": {},
   "outputs": [],
   "source": [
    "import requests\n",
    "import base64\n",
    "from IPython import display"
   ]
  },
  {
   "cell_type": "code",
   "execution_count": null,
   "id": "894f1df0",
   "metadata": {},
   "outputs": [],
   "source": [
    "image_path = \"/Users/miguelgranica/Documents/MBIT - DE/Modulo 02 - Arquitecturas transaccionales/M02 S05 Proyecto de Consolidacion/static/images/cat_modern.jpg\""
   ]
  },
  {
   "cell_type": "code",
   "execution_count": null,
   "id": "a344e67c-695b-4580-87dd-923b928e3d9d",
   "metadata": {},
   "outputs": [],
   "source": [
    "res = requests.post(\n",
    "    \"http://localhost:5005/convert\",\n",
    "    json={\n",
    "        \"image\":image_path,\n",
    "        \"min_confidence\": 75\n",
    "    },\n",
    ")\n",
    "res"
   ]
  },
  {
   "cell_type": "code",
   "execution_count": null,
   "id": "075d71af-c568-402d-86a8-b9d6f711b736",
   "metadata": {},
   "outputs": [],
   "source": [
    "res.json()"
   ]
  },
  {
   "cell_type": "code",
   "execution_count": null,
   "id": "e664006b-ce94-4958-9c0d-72bc1c540062",
   "metadata": {},
   "outputs": [],
   "source": [
    "# base64.b64encode(b64str).encode()\n",
    "img = base64.b64decode(b64str)"
   ]
  },
  {
   "cell_type": "code",
   "execution_count": null,
   "id": "e859400d-2f96-4c90-a207-5272fae6ee42",
   "metadata": {},
   "outputs": [],
   "source": [
    "#img = base64.b64encode(b64str).encode()\n",
    "display.Image(img)"
   ]
  },
  {
   "cell_type": "code",
   "execution_count": null,
   "id": "a7b8167f-b328-4006-8bef-d5e42169e8b0",
   "metadata": {},
   "outputs": [],
   "source": []
  },
  {
   "cell_type": "code",
   "execution_count": 2,
   "id": "d886a8ef-826d-4e43-8259-62cd868e5cec",
   "metadata": {},
   "outputs": [],
   "source": [
    "min_date = '2023-12-27 18:45:59.190548'\n",
    "max_date = None #datetime.date(2023, 12, 18)\n",
    "tags = ['architecture', 'palace']"
   ]
  },
  {
   "cell_type": "code",
   "execution_count": 3,
   "id": "1c2d9692-a140-4037-bcb8-e684a3593759",
   "metadata": {},
   "outputs": [],
   "source": [
    "res = requests.get(\n",
    "    f\"http://localhost:5005/images?min_date={min_date}\",\n",
    ")"
   ]
  },
  {
   "cell_type": "code",
   "execution_count": 4,
   "id": "f7d13682-b870-4361-bff3-5672cb679f4e",
   "metadata": {},
   "outputs": [
    {
     "data": {
      "text/plain": [
       "'[{\"date\":\"2023-12-27 20:09:51.595350\",\"id\":\"658c768088c257da3396084a\",\"size\":260284,\"tags\":{\"confidences\":\"98,77\",\"tags\":\"architecture,palace\"}}]\\n'"
      ]
     },
     "execution_count": 4,
     "metadata": {},
     "output_type": "execute_result"
    }
   ],
   "source": [
    "res.text"
   ]
  },
  {
   "cell_type": "code",
   "execution_count": 5,
   "id": "6935cf7d-f6d3-4b74-93d9-48e2b8aef6d8",
   "metadata": {},
   "outputs": [
    {
     "data": {
      "text/plain": [
       "[{'date': '2023-12-27 20:09:51.595350',\n",
       "  'id': '658c768088c257da3396084a',\n",
       "  'size': 260284,\n",
       "  'tags': {'confidences': '98,77', 'tags': 'architecture,palace'}}]"
      ]
     },
     "execution_count": 5,
     "metadata": {},
     "output_type": "execute_result"
    }
   ],
   "source": [
    "res.json()"
   ]
  },
  {
   "cell_type": "code",
   "execution_count": 6,
   "id": "bade8a0c-3b51-4c9e-950d-03d876522aa6",
   "metadata": {},
   "outputs": [],
   "source": [
    "res = requests.get(\n",
    "    f\"http://localhost:5005/images/658c768088c257da3396084a\",\n",
    ")"
   ]
  },
  {
   "cell_type": "code",
   "execution_count": 7,
   "id": "a0dc98b9-ea32-4e53-aac9-071304cb1c57",
   "metadata": {},
   "outputs": [
    {
     "data": {
      "text/plain": [
       "[{'date': '2023-12-27 20:09:51.595350',\n",
       "  'id': '658c768088c257da3396084a',\n",
       "  'size': 260284,\n",
       "  'tags': {'confidences': '98,77', 'tags': 'architecture,palace'}}]"
      ]
     },
     "execution_count": 7,
     "metadata": {},
     "output_type": "execute_result"
    }
   ],
   "source": [
    "res.json()"
   ]
  },
  {
   "cell_type": "code",
   "execution_count": 8,
   "id": "9d7d9ff1-2ac5-4a9c-bd66-24a3838d6bc1",
   "metadata": {},
   "outputs": [],
   "source": [
    "min_date = '2023-12-27 18:45:59.190548'\n",
    "max_date = None #datetime.date(2023, 12, 18)"
   ]
  },
  {
   "cell_type": "code",
   "execution_count": 9,
   "id": "025edff4-9073-4709-aa4d-e2f8c5fd8099",
   "metadata": {},
   "outputs": [],
   "source": [
    "res = requests.get(\n",
    "    f\"http://localhost:5005/tags\",\n",
    ")"
   ]
  },
  {
   "cell_type": "code",
   "execution_count": 10,
   "id": "5b272919-42fb-4f70-9d03-ec597fde0816",
   "metadata": {},
   "outputs": [
    {
     "data": {
      "text/plain": [
       "[{'max_confidence': 98,\n",
       "  'mean_confidence': '98.0000',\n",
       "  'min_confidence': 98,\n",
       "  'n_images': 1,\n",
       "  'tag': 'architecture'},\n",
       " {'max_confidence': 94,\n",
       "  'mean_confidence': '94.0000',\n",
       "  'min_confidence': 94,\n",
       "  'n_images': 1,\n",
       "  'tag': 'jersey'},\n",
       " {'max_confidence': 77,\n",
       "  'mean_confidence': '77.0000',\n",
       "  'min_confidence': 77,\n",
       "  'n_images': 1,\n",
       "  'tag': 'palace'},\n",
       " {'max_confidence': 92,\n",
       "  'mean_confidence': '92.0000',\n",
       "  'min_confidence': 92,\n",
       "  'n_images': 1,\n",
       "  'tag': 'shirt'}]"
      ]
     },
     "execution_count": 10,
     "metadata": {},
     "output_type": "execute_result"
    }
   ],
   "source": [
    "res.json()"
   ]
  },
  {
   "cell_type": "code",
   "execution_count": null,
   "id": "ab4ffa77-1e93-45a1-bc86-491086028b57",
   "metadata": {},
   "outputs": [],
   "source": []
  }
 ],
 "metadata": {
  "kernelspec": {
   "display_name": "Python 3 (ipykernel)",
   "language": "python",
   "name": "python3"
  },
  "language_info": {
   "codemirror_mode": {
    "name": "ipython",
    "version": 3
   },
   "file_extension": ".py",
   "mimetype": "text/x-python",
   "name": "python",
   "nbconvert_exporter": "python",
   "pygments_lexer": "ipython3",
   "version": "3.10.11"
  }
 },
 "nbformat": 4,
 "nbformat_minor": 5
}
