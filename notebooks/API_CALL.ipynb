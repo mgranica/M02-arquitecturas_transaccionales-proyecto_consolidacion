{
 "cells": [
  {
   "cell_type": "code",
   "execution_count": 1,
   "id": "8cdc4ee9-4ce8-4156-8e9b-c33ef981715a",
   "metadata": {},
   "outputs": [],
   "source": [
    "import requests\n",
    "import base64\n",
    "from IPython import display\n",
    "import os"
   ]
  },
  {
   "cell_type": "code",
   "execution_count": 2,
   "id": "894f1df0",
   "metadata": {},
   "outputs": [],
   "source": [
    "image_path = \"/Users/miguelgranica/Downloads/med_beer.jpg\"\n",
    "#image_path = \"/Users/miguelgranica/Documents/MBIT - DE/Modulo 02 - Arquitecturas transaccionales/M02 S05 Proyecto de Consolidacion/static/images/cat_modern.jpg\""
   ]
  },
  {
   "cell_type": "code",
   "execution_count": 3,
   "id": "efe826fa-547b-442c-a6d7-436c1b197ed3",
   "metadata": {},
   "outputs": [],
   "source": [
    "image_name = os.path.splitext(os.path.basename(image_path))[0]"
   ]
  },
  {
   "cell_type": "code",
   "execution_count": 4,
   "id": "2856cb04-d344-4b2b-9225-5b1d53ac9a40",
   "metadata": {},
   "outputs": [],
   "source": [
    "def encode_image(image_path):\n",
    "    with open(image_path, mode=\"rb\") as img:\n",
    "        img_b64 = base64.b64encode(img.read())\n",
    "    return img_b64"
   ]
  },
  {
   "cell_type": "code",
   "execution_count": 5,
   "id": "fa614fec-c563-4906-beea-326b4006b81d",
   "metadata": {},
   "outputs": [],
   "source": [
    "img_b64 = encode_image(image_path)"
   ]
  },
  {
   "cell_type": "code",
   "execution_count": 8,
   "id": "a344e67c-695b-4580-87dd-923b928e3d9d",
   "metadata": {},
   "outputs": [
    {
     "data": {
      "text/plain": [
       "<Response [200]>"
      ]
     },
     "execution_count": 8,
     "metadata": {},
     "output_type": "execute_result"
    }
   ],
   "source": [
    "res = requests.post(\n",
    "    \"http://localhost:5005/images?min_confidence=55\",\n",
    "    json={\"data\":img_b64},\n",
    ")\n",
    "res"
   ]
  },
  {
   "cell_type": "code",
   "execution_count": 9,
   "id": "075d71af-c568-402d-86a8-b9d6f711b736",
   "metadata": {},
   "outputs": [
    {
     "data": {
      "text/plain": [
       "{'date': '2024-01-01 22:04:52.076941',\n",
       " 'id': '6593370788c257da33b530e3',\n",
       " 'size': 5293488,\n",
       " 'tags': [{'confidence': 100, 'tag': 'beer glass'},\n",
       "  {'confidence': 100, 'tag': 'glass'},\n",
       "  {'confidence': 100, 'tag': 'container'},\n",
       "  {'confidence': 60.9990730285645, 'tag': 'drink'},\n",
       "  {'confidence': 59.4102630615234, 'tag': 'alcohol'},\n",
       "  {'confidence': 58.3236961364746, 'tag': 'beer'}]}"
      ]
     },
     "execution_count": 9,
     "metadata": {},
     "output_type": "execute_result"
    }
   ],
   "source": [
    "res.json()"
   ]
  },
  {
   "cell_type": "code",
   "execution_count": null,
   "id": "e664006b-ce94-4958-9c0d-72bc1c540062",
   "metadata": {},
   "outputs": [],
   "source": [
    "# base64.b64encode(b64str).encode()\n",
    "img = base64.b64decode(b64str)"
   ]
  },
  {
   "cell_type": "code",
   "execution_count": null,
   "id": "e859400d-2f96-4c90-a207-5272fae6ee42",
   "metadata": {},
   "outputs": [],
   "source": [
    "#img = base64.b64encode(b64str).encode()\n",
    "display.Image(img)"
   ]
  },
  {
   "cell_type": "code",
   "execution_count": null,
   "id": "d886a8ef-826d-4e43-8259-62cd868e5cec",
   "metadata": {},
   "outputs": [],
   "source": [
    "min_date = '2023-12-27 18:45:59.190548'\n",
    "max_date = None #datetime.date(2023, 12, 18)\n",
    "tags = ['architecture', 'palace']"
   ]
  },
  {
   "cell_type": "code",
   "execution_count": null,
   "id": "1c2d9692-a140-4037-bcb8-e684a3593759",
   "metadata": {},
   "outputs": [],
   "source": [
    "res = requests.get(\n",
    "    f\"http://localhost:5005/images?min_date={min_date}\",\n",
    ")"
   ]
  },
  {
   "cell_type": "code",
   "execution_count": null,
   "id": "f7d13682-b870-4361-bff3-5672cb679f4e",
   "metadata": {},
   "outputs": [],
   "source": [
    "res.text"
   ]
  },
  {
   "cell_type": "code",
   "execution_count": null,
   "id": "6935cf7d-f6d3-4b74-93d9-48e2b8aef6d8",
   "metadata": {},
   "outputs": [],
   "source": [
    "res.json()"
   ]
  },
  {
   "cell_type": "code",
   "execution_count": null,
   "id": "bade8a0c-3b51-4c9e-950d-03d876522aa6",
   "metadata": {},
   "outputs": [],
   "source": [
    "res = requests.get(\n",
    "    f\"http://localhost:5005/images/658c768088c257da3396084a\",\n",
    ")"
   ]
  },
  {
   "cell_type": "code",
   "execution_count": null,
   "id": "a0dc98b9-ea32-4e53-aac9-071304cb1c57",
   "metadata": {},
   "outputs": [],
   "source": [
    "res.json()"
   ]
  },
  {
   "cell_type": "code",
   "execution_count": null,
   "id": "9d7d9ff1-2ac5-4a9c-bd66-24a3838d6bc1",
   "metadata": {},
   "outputs": [],
   "source": [
    "min_date = '2023-12-27 18:45:59.190548'\n",
    "max_date = None #datetime.date(2023, 12, 18)"
   ]
  },
  {
   "cell_type": "code",
   "execution_count": null,
   "id": "025edff4-9073-4709-aa4d-e2f8c5fd8099",
   "metadata": {},
   "outputs": [],
   "source": [
    "res = requests.get(\n",
    "    f\"http://localhost:5005/tags\",\n",
    ")"
   ]
  },
  {
   "cell_type": "code",
   "execution_count": null,
   "id": "5b272919-42fb-4f70-9d03-ec597fde0816",
   "metadata": {},
   "outputs": [],
   "source": [
    "res.json()"
   ]
  },
  {
   "cell_type": "code",
   "execution_count": null,
   "id": "ab4ffa77-1e93-45a1-bc86-491086028b57",
   "metadata": {},
   "outputs": [],
   "source": []
  }
 ],
 "metadata": {
  "kernelspec": {
   "display_name": "Python 3 (ipykernel)",
   "language": "python",
   "name": "python3"
  },
  "language_info": {
   "codemirror_mode": {
    "name": "ipython",
    "version": 3
   },
   "file_extension": ".py",
   "mimetype": "text/x-python",
   "name": "python",
   "nbconvert_exporter": "python",
   "pygments_lexer": "ipython3",
   "version": "3.10.11"
  }
 },
 "nbformat": 4,
 "nbformat_minor": 5
}
