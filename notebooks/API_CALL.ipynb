{
 "cells": [
  {
   "cell_type": "markdown",
   "id": "73bf5c82-14d8-4753-a75f-53620b4630f8",
   "metadata": {},
   "source": [
    "# 1. Import dependencies"
   ]
  },
  {
   "cell_type": "code",
   "execution_count": 1,
   "id": "8cdc4ee9-4ce8-4156-8e9b-c33ef981715a",
   "metadata": {},
   "outputs": [],
   "source": [
    "import requests\n",
    "import base64\n",
    "from IPython import display\n",
    "import os"
   ]
  },
  {
   "cell_type": "markdown",
   "id": "ee01b2b2-9d70-46a3-8dae-a1a19da1c7f8",
   "metadata": {},
   "source": [
    "## 2. Post Image"
   ]
  },
  {
   "cell_type": "markdown",
   "id": "480d182b-ffe6-4e31-bcdc-17d4733d6f46",
   "metadata": {},
   "source": [
    "### 2.1 Set image path"
   ]
  },
  {
   "cell_type": "code",
   "execution_count": 2,
   "id": "894f1df0",
   "metadata": {},
   "outputs": [],
   "source": [
    "# Enter the path to the selected image\n",
    "image_path = \"/Users/miguelgranica/Downloads/med_beer.jpg\"\n",
    "#image_path = \"/Users/miguelgranica/Documents/MBIT - DE/Modulo 02 - Arquitecturas transaccionales/M02 S05 Proyecto de Consolidacion/static/images/cat_modern.jpg\""
   ]
  },
  {
   "cell_type": "code",
   "execution_count": 3,
   "id": "efe826fa-547b-442c-a6d7-436c1b197ed3",
   "metadata": {},
   "outputs": [],
   "source": [
    "# extract filename from path\n",
    "image_name = os.path.splitext(os.path.basename(image_path))[0]"
   ]
  },
  {
   "cell_type": "markdown",
   "id": "eea14794-fe72-43e7-99b6-8db6b4ec54db",
   "metadata": {},
   "source": [
    "### 2.2 Encode Image"
   ]
  },
  {
   "cell_type": "code",
   "execution_count": 4,
   "id": "2856cb04-d344-4b2b-9225-5b1d53ac9a40",
   "metadata": {},
   "outputs": [],
   "source": [
    "def encode_image(image_path):\n",
    "    with open(image_path, mode=\"rb\") as img:\n",
    "        img_b64 = base64.b64encode(img.read())\n",
    "    return img_b64"
   ]
  },
  {
   "cell_type": "code",
   "execution_count": 5,
   "id": "fa614fec-c563-4906-beea-326b4006b81d",
   "metadata": {},
   "outputs": [],
   "source": [
    "img_b64 = encode_image(image_path)"
   ]
  },
  {
   "cell_type": "code",
   "execution_count": 6,
   "id": "f43fec3f-6417-4858-955b-2d308eadad6a",
   "metadata": {},
   "outputs": [
    {
     "data": {
      "text/plain": [
       "str"
      ]
     },
     "execution_count": 6,
     "metadata": {},
     "output_type": "execute_result"
    }
   ],
   "source": [
    "type(img_b64.decode(\"utf-8\"))"
   ]
  },
  {
   "cell_type": "code",
   "execution_count": 7,
   "id": "c42e2bea-f7f2-4552-9334-1ab8e42ce6cd",
   "metadata": {},
   "outputs": [
    {
     "data": {
      "text/plain": [
       "b'/9j/4QCfRXhpZgAATU0AKgAAAAgABQESAAMAAAABAAEAAAEaAA'"
      ]
     },
     "execution_count": 7,
     "metadata": {},
     "output_type": "execute_result"
    }
   ],
   "source": [
    "img_b64[:50]"
   ]
  },
  {
   "cell_type": "code",
   "execution_count": 8,
   "id": "385ad1dc-a8cf-4201-b2f8-c361ce5d4882",
   "metadata": {},
   "outputs": [
    {
     "data": {
      "text/plain": [
       "'/9j/4QCfRXhpZgAATU0AKgAAAAgABQESAAMAAAABAAEAAAEaAA'"
      ]
     },
     "execution_count": 8,
     "metadata": {},
     "output_type": "execute_result"
    }
   ],
   "source": [
    "img_b64.decode()[:50]"
   ]
  },
  {
   "cell_type": "markdown",
   "id": "9f6de164-5609-424e-bffc-a65c43907b96",
   "metadata": {},
   "source": [
    "### 2.3 Post method"
   ]
  },
  {
   "cell_type": "markdown",
   "id": "d2c769e7-11d9-4d8b-b0c9-b1a6ee8ebe22",
   "metadata": {},
   "source": [
    "#### 2.3.1 Correct request "
   ]
  },
  {
   "cell_type": "code",
   "execution_count": 9,
   "id": "a344e67c-695b-4580-87dd-923b928e3d9d",
   "metadata": {},
   "outputs": [
    {
     "data": {
      "text/plain": [
       "<Response [200]>"
      ]
     },
     "execution_count": 9,
     "metadata": {},
     "output_type": "execute_result"
    }
   ],
   "source": [
    "res = requests.post(\n",
    "    \"http://localhost:5005/images?min_confidence=75\",\n",
    "    json={\"data\":img_b64},\n",
    ")\n",
    "res"
   ]
  },
  {
   "cell_type": "code",
   "execution_count": 10,
   "id": "075d71af-c568-402d-86a8-b9d6f711b736",
   "metadata": {},
   "outputs": [
    {
     "data": {
      "text/plain": [
       "{'data': '/9j/4QCfRXhpZgAATU0AKgAAAAgABQESAAMAAAABAAEAAAEaAAUAAAABAAAASgEbAAUAAAABAAAAUgEoAAMAAAABAAEAAAExAAIA',\n",
       " 'date': '2024-01-10 22:51:25.323586',\n",
       " 'id': '659f1f7088c257da331992fc',\n",
       " 'size': 5293488,\n",
       " 'tags': [{'confidence': 100, 'tag': 'beer glass'},\n",
       "  {'confidence': 100, 'tag': 'glass'},\n",
       "  {'confidence': 100, 'tag': 'container'}]}"
      ]
     },
     "execution_count": 10,
     "metadata": {},
     "output_type": "execute_result"
    }
   ],
   "source": [
    "res.json()"
   ]
  },
  {
   "cell_type": "markdown",
   "id": "ba5f6f37-586a-48b2-b0b8-572c750c8d3c",
   "metadata": {},
   "source": [
    "#### 2.3.2 Herror Handling"
   ]
  },
  {
   "cell_type": "code",
   "execution_count": 11,
   "id": "0ee1a3a3-5e80-4ddc-a015-d00324dff5fb",
   "metadata": {},
   "outputs": [
    {
     "data": {
      "text/plain": [
       "<Response [400]>"
      ]
     },
     "execution_count": 11,
     "metadata": {},
     "output_type": "execute_result"
    }
   ],
   "source": [
    "# min confidence error handling\n",
    "res = requests.post(\n",
    "    \"http://localhost:5005/images?min_confidence=150\",\n",
    "    json={\"data\":img_b64},\n",
    ")\n",
    "res"
   ]
  },
  {
   "cell_type": "code",
   "execution_count": 12,
   "id": "23ff8fe5-894d-40f6-8e8d-1113027fde42",
   "metadata": {},
   "outputs": [
    {
     "data": {
      "text/plain": [
       "{'error': \"'min_confidence' must be a valid integer between 0 and 100\"}"
      ]
     },
     "execution_count": 12,
     "metadata": {},
     "output_type": "execute_result"
    }
   ],
   "source": [
    "res.json()"
   ]
  },
  {
   "cell_type": "code",
   "execution_count": 13,
   "id": "ec71e820-4c57-4c0a-bf3a-d5b5a684c064",
   "metadata": {},
   "outputs": [
    {
     "data": {
      "text/plain": [
       "<Response [400]>"
      ]
     },
     "execution_count": 13,
     "metadata": {},
     "output_type": "execute_result"
    }
   ],
   "source": [
    "res = requests.post(\n",
    "    \"http://localhost:5005/images?min_confidence=75\",\n",
    "    json={},\n",
    ")\n",
    "res"
   ]
  },
  {
   "cell_type": "code",
   "execution_count": 14,
   "id": "ea0fb2c5-f47c-428d-9085-ed1b62916df7",
   "metadata": {},
   "outputs": [
    {
     "data": {
      "text/plain": [
       "{'error': \"Missing 'data' parameter in the request body\"}"
      ]
     },
     "execution_count": 14,
     "metadata": {},
     "output_type": "execute_result"
    }
   ],
   "source": [
    "res.json()"
   ]
  },
  {
   "cell_type": "markdown",
   "id": "b7fbccfb-ad87-418c-971f-6c8a5035a001",
   "metadata": {},
   "source": [
    "## 3 Get Images "
   ]
  },
  {
   "cell_type": "markdown",
   "id": "c0b3e3e5-b59d-4cf4-88b4-3bb3b1c1b924",
   "metadata": {},
   "source": [
    "### 3.1 Correct request"
   ]
  },
  {
   "cell_type": "code",
   "execution_count": 15,
   "id": "d886a8ef-826d-4e43-8259-62cd868e5cec",
   "metadata": {},
   "outputs": [],
   "source": [
    "#Params definitions\n",
    "min_date = '2023-12-27 18:45:59'\n",
    "max_date = '2024-01-05 18:45:59'\n",
    "tags = \"architecture,palace\"\n"
   ]
  },
  {
   "cell_type": "code",
   "execution_count": 16,
   "id": "1c2d9692-a140-4037-bcb8-e684a3593759",
   "metadata": {},
   "outputs": [
    {
     "data": {
      "text/plain": [
       "<Response [200]>"
      ]
     },
     "execution_count": 16,
     "metadata": {},
     "output_type": "execute_result"
    }
   ],
   "source": [
    "res = requests.get(\n",
    "    f\"http://localhost:5005/images?min_date={min_date}&max_date={max_date}&tags={tags}\",\n",
    ")\n",
    "res"
   ]
  },
  {
   "cell_type": "code",
   "execution_count": 17,
   "id": "6935cf7d-f6d3-4b74-93d9-48e2b8aef6d8",
   "metadata": {},
   "outputs": [
    {
     "data": {
      "text/plain": [
       "[{'date': '2023-12-27 20:09:51.595350',\n",
       "  'id': '658c768088c257da3396084a',\n",
       "  'size': 260284,\n",
       "  'tags': {'confidences': '98,77', 'tags': 'architecture,palace'}},\n",
       " {'date': '2023-12-29 20:57:43.592105',\n",
       "  'id': '658f24b888c257da3335e5b7',\n",
       "  'size': 260284,\n",
       "  'tags': {'confidences': '98,77', 'tags': 'architecture,palace'}}]"
      ]
     },
     "execution_count": 17,
     "metadata": {},
     "output_type": "execute_result"
    }
   ],
   "source": [
    "res.json()"
   ]
  },
  {
   "cell_type": "markdown",
   "id": "d5045014-9bd7-41ac-b2ab-b0e4bea1f2d2",
   "metadata": {},
   "source": [
    "### 3.2 Error Handling"
   ]
  },
  {
   "cell_type": "code",
   "execution_count": 18,
   "id": "8558f42c-b72e-4a5e-a46f-7e0930c68fe9",
   "metadata": {},
   "outputs": [],
   "source": [
    "#Params definitions\n",
    "min_date = '2023-12-27 18:45:59'\n",
    "max_date = '2024-01-05 18:45:59'\n",
    "tags = \"python\""
   ]
  },
  {
   "cell_type": "code",
   "execution_count": 19,
   "id": "af1ab1a7-1b77-43b0-8dd5-d7ba36678dc2",
   "metadata": {},
   "outputs": [
    {
     "data": {
      "text/plain": [
       "<Response [400]>"
      ]
     },
     "execution_count": 19,
     "metadata": {},
     "output_type": "execute_result"
    }
   ],
   "source": [
    "res = requests.get(\n",
    "    f\"http://localhost:5005/images?min_date={min_date}&max_date={max_date}&tags={tags}\",\n",
    ")\n",
    "res"
   ]
  },
  {
   "cell_type": "code",
   "execution_count": 20,
   "id": "10190ca2-23d1-4743-9bba-9a57e35e93a9",
   "metadata": {},
   "outputs": [
    {
     "data": {
      "text/plain": [
       "{'error': \"Query images Error: No Images were collected with the tags: ['python']\"}"
      ]
     },
     "execution_count": 20,
     "metadata": {},
     "output_type": "execute_result"
    }
   ],
   "source": [
    "res.json()"
   ]
  },
  {
   "cell_type": "markdown",
   "id": "6035ea98-8b1b-469d-8c02-6c34f2cd9423",
   "metadata": {},
   "source": [
    "## 4 Get Image"
   ]
  },
  {
   "cell_type": "markdown",
   "id": "2c8b2d39-67e4-4c1b-90e5-3ff61714316f",
   "metadata": {},
   "source": [
    "### 4.1 Correct request"
   ]
  },
  {
   "cell_type": "code",
   "execution_count": 21,
   "id": "bade8a0c-3b51-4c9e-950d-03d876522aa6",
   "metadata": {},
   "outputs": [
    {
     "data": {
      "text/plain": [
       "<Response [200]>"
      ]
     },
     "execution_count": 21,
     "metadata": {},
     "output_type": "execute_result"
    }
   ],
   "source": [
    "res = requests.get(\n",
    "    f\"http://localhost:5005/images/658c768088c257da3396084a\",\n",
    ")\n",
    "res"
   ]
  },
  {
   "cell_type": "code",
   "execution_count": 22,
   "id": "a0dc98b9-ea32-4e53-aac9-071304cb1c57",
   "metadata": {},
   "outputs": [
    {
     "data": {
      "text/plain": [
       "[{'date': '2023-12-27 20:09:51.595350',\n",
       "  'id': '658c768088c257da3396084a',\n",
       "  'size': 260284,\n",
       "  'tags': {'confidences': '98,77', 'tags': 'architecture,palace'}}]"
      ]
     },
     "execution_count": 22,
     "metadata": {},
     "output_type": "execute_result"
    }
   ],
   "source": [
    "res.json()"
   ]
  },
  {
   "cell_type": "markdown",
   "id": "1f3f252e-ed6d-4695-8732-b55126214ab4",
   "metadata": {},
   "source": [
    "### 4.2 Error Handling "
   ]
  },
  {
   "cell_type": "code",
   "execution_count": 23,
   "id": "a776cc96-52c6-4089-a4c8-ddd336b40176",
   "metadata": {},
   "outputs": [
    {
     "data": {
      "text/plain": [
       "<Response [200]>"
      ]
     },
     "execution_count": 23,
     "metadata": {},
     "output_type": "execute_result"
    }
   ],
   "source": [
    "res = requests.get(\n",
    "    f\"http://localhost:5005/images/658c768088c2\",\n",
    ")\n",
    "res"
   ]
  },
  {
   "cell_type": "code",
   "execution_count": 24,
   "id": "853c5411-fa52-4ba3-b280-a1fd272382dc",
   "metadata": {},
   "outputs": [
    {
     "data": {
      "text/plain": [
       "[{'date': None,\n",
       "  'id': None,\n",
       "  'size': None,\n",
       "  'tags': {'confidences': None, 'tags': None}}]"
      ]
     },
     "execution_count": 24,
     "metadata": {},
     "output_type": "execute_result"
    }
   ],
   "source": [
    "res.json()"
   ]
  },
  {
   "cell_type": "markdown",
   "id": "67c948ae-7784-4a2b-b2cd-f1887c415a0d",
   "metadata": {},
   "source": [
    "## 5 Get tags"
   ]
  },
  {
   "cell_type": "markdown",
   "id": "6573d321-1d73-4fa8-9985-35c007bbd319",
   "metadata": {},
   "source": [
    "### 5.1 Correct request"
   ]
  },
  {
   "cell_type": "code",
   "execution_count": 25,
   "id": "9d7d9ff1-2ac5-4a9c-bd66-24a3838d6bc1",
   "metadata": {},
   "outputs": [],
   "source": [
    "min_date = '2023-12-27 18:45:59'\n",
    "max_date = '2023-12-29 18:45:59'"
   ]
  },
  {
   "cell_type": "code",
   "execution_count": 26,
   "id": "025edff4-9073-4709-aa4d-e2f8c5fd8099",
   "metadata": {},
   "outputs": [
    {
     "data": {
      "text/plain": [
       "<Response [200]>"
      ]
     },
     "execution_count": 26,
     "metadata": {},
     "output_type": "execute_result"
    }
   ],
   "source": [
    "res = requests.get(\n",
    "    f\"http://localhost:5005/tags?min_date={min_date}&max_date={max_date}\",\n",
    ")\n",
    "res"
   ]
  },
  {
   "cell_type": "code",
   "execution_count": 27,
   "id": "5b272919-42fb-4f70-9d03-ec597fde0816",
   "metadata": {},
   "outputs": [
    {
     "data": {
      "text/plain": [
       "[{'max_confidence': 98,\n",
       "  'mean_confidence': '98.0000',\n",
       "  'min_confidence': 98,\n",
       "  'n_images': 1,\n",
       "  'tag': 'architecture'},\n",
       " {'max_confidence': 77,\n",
       "  'mean_confidence': '77.0000',\n",
       "  'min_confidence': 77,\n",
       "  'n_images': 1,\n",
       "  'tag': 'palace'}]"
      ]
     },
     "execution_count": 27,
     "metadata": {},
     "output_type": "execute_result"
    }
   ],
   "source": [
    "res.json()"
   ]
  },
  {
   "cell_type": "markdown",
   "id": "505cccff-e49e-440e-a5e6-00fdd54ca695",
   "metadata": {},
   "source": [
    "### 5.2 Error Handling"
   ]
  },
  {
   "cell_type": "code",
   "execution_count": 28,
   "id": "1f96b1df-3e1d-47e9-8cfc-6052a456b32f",
   "metadata": {},
   "outputs": [],
   "source": [
    "min_date = '2023-12-26 07:45:59'\n",
    "max_date = '2023-12-27 07:45:59'"
   ]
  },
  {
   "cell_type": "code",
   "execution_count": 29,
   "id": "e0f49c96-0b25-4698-bc11-8208a002a89b",
   "metadata": {},
   "outputs": [
    {
     "data": {
      "text/plain": [
       "<Response [400]>"
      ]
     },
     "execution_count": 29,
     "metadata": {},
     "output_type": "execute_result"
    }
   ],
   "source": [
    "res = requests.get(\n",
    "    f\"http://localhost:5005/tags?min_date={min_date}&max_date={max_date}\",\n",
    ")\n",
    "res"
   ]
  },
  {
   "cell_type": "code",
   "execution_count": 30,
   "id": "c52d4148-df1b-41d0-a8b0-6f57872976c6",
   "metadata": {},
   "outputs": [
    {
     "data": {
      "text/plain": [
       "{'error': 'Query tags Error: No tags were generated within those dates'}"
      ]
     },
     "execution_count": 30,
     "metadata": {},
     "output_type": "execute_result"
    }
   ],
   "source": [
    "res.json()"
   ]
  },
  {
   "cell_type": "code",
   "execution_count": null,
   "id": "ca09e5c0-6873-47ec-ac07-4ec7db02b1fd",
   "metadata": {},
   "outputs": [],
   "source": []
  }
 ],
 "metadata": {
  "kernelspec": {
   "display_name": "Python 3 (ipykernel)",
   "language": "python",
   "name": "python3"
  },
  "language_info": {
   "codemirror_mode": {
    "name": "ipython",
    "version": 3
   },
   "file_extension": ".py",
   "mimetype": "text/x-python",
   "name": "python",
   "nbconvert_exporter": "python",
   "pygments_lexer": "ipython3",
   "version": "3.10.11"
  }
 },
 "nbformat": 4,
 "nbformat_minor": 5
}
