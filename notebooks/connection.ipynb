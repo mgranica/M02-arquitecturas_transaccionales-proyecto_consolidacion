{
 "cells": [
  {
   "cell_type": "code",
   "execution_count": 1,
   "id": "2e656bdd-15a0-4eb6-b60c-8808eacb5a02",
   "metadata": {},
   "outputs": [],
   "source": [
    "# en primer lugar importamos la funcionalidad para crear un engine\n",
    "from sqlalchemy import create_engine, text"
   ]
  },
  {
   "cell_type": "markdown",
   "id": "76a494d9-8d73-42e8-9c6d-f37349df03dc",
   "metadata": {},
   "source": [
    "## 1. Database Connection"
   ]
  },
  {
   "cell_type": "code",
   "execution_count": 2,
   "id": "aa10c5c7-fd14-42af-b169-e86f1931f7b0",
   "metadata": {},
   "outputs": [],
   "source": [
    "# Pictures database\n",
    "host = 'localhost'\n",
    "database = 'Pictures'\n",
    "user = 'mbit'\n",
    "password = 'mbit'"
   ]
  },
  {
   "cell_type": "code",
   "execution_count": 3,
   "id": "18d9c62c-0fa2-4328-952b-fd4588d98557",
   "metadata": {},
   "outputs": [],
   "source": [
    "# create sqlalchemy engine\n",
    "engine = create_engine(f\"mysql+pymysql://{user}:{password}@{host}/{database}\")"
   ]
  },
  {
   "cell_type": "markdown",
   "id": "f72f8395-97e6-4787-a8d3-b31f01d72a98",
   "metadata": {},
   "source": [
    "## 2. Tables Creation"
   ]
  },
  {
   "cell_type": "code",
   "execution_count": 4,
   "id": "baf5d3b8-f916-444e-8639-6666e25810c2",
   "metadata": {},
   "outputs": [],
   "source": [
    "# create pictures \n",
    "pictures_stmt = text(\n",
    "    \"\"\"\n",
    "        CREATE TABLE IF NOT EXISTS pictures (\n",
    "            id varchar(36) NOT NULL,\n",
    "            path varchar(250) NOT NULL,\n",
    "            size int(12) NOT NULL,\n",
    "            date varchar(28) NOT NULL,\n",
    "            PRIMARY KEY (id)\n",
    "        )\n",
    "    \"\"\")\n",
    "with engine.connect() as conn:\n",
    "    conn.execute(pictures_stmt)"
   ]
  },
  {
   "cell_type": "code",
   "execution_count": 5,
   "id": "590135fd-83ad-4aaa-88b3-d8d43d1a39b6",
   "metadata": {},
   "outputs": [],
   "source": [
    "tags_stmt = text(\n",
    "    \"\"\"\n",
    "        CREATE TABLE IF NOT EXISTS tags (\n",
    "            tag varchar(36) NOT NULL,\n",
    "            picture_id varchar(36) NOT NULL,\n",
    "            confidence int NOT NULL,\n",
    "            date varchar(28) NOT NULL,\n",
    "            PRIMARY KEY (tag, picture_id),\n",
    "            FOREIGN KEY (picture_id) REFERENCES pictures(id)\n",
    "        )\n",
    "    \"\"\"\n",
    ")\n",
    "# create tags\n",
    "with engine.connect() as conn:\n",
    "    conn.execute(tags_stmt)"
   ]
  },
  {
   "cell_type": "code",
   "execution_count": null,
   "id": "83d640e0-4946-4364-8c7e-ebcbab7ceab5",
   "metadata": {},
   "outputs": [],
   "source": []
  }
 ],
 "metadata": {
  "kernelspec": {
   "display_name": "Python 3 (ipykernel)",
   "language": "python",
   "name": "python3"
  },
  "language_info": {
   "codemirror_mode": {
    "name": "ipython",
    "version": 3
   },
   "file_extension": ".py",
   "mimetype": "text/x-python",
   "name": "python",
   "nbconvert_exporter": "python",
   "pygments_lexer": "ipython3",
   "version": "3.10.11"
  }
 },
 "nbformat": 4,
 "nbformat_minor": 5
}
