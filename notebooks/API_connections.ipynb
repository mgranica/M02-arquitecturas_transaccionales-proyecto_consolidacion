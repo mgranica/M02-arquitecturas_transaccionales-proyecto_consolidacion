{
 "cells": [
  {
   "cell_type": "markdown",
   "id": "0d0d7980-1240-4fe9-858d-1f57926d6508",
   "metadata": {},
   "source": [
    "# API CONNECTIONS"
   ]
  },
  {
   "cell_type": "markdown",
   "id": "ebcce938-fb03-417e-a06b-2039fdea0b88",
   "metadata": {},
   "source": [
    "# 1 Post Images"
   ]
  },
  {
   "cell_type": "markdown",
   "id": "e6ff8a33-3c62-40cc-92f5-12fd8520c10d",
   "metadata": {},
   "source": [
    "## 1.1 Import libraries & credentials"
   ]
  },
  {
   "cell_type": "code",
   "execution_count": 1,
   "id": "a643c3a4-7c9d-4453-a731-0ddc6108b5d0",
   "metadata": {},
   "outputs": [],
   "source": [
    "from imagekitio import ImageKit\n",
    "import json\n",
    "import base64\n",
    "import requests\n",
    "import datetime\n",
    "\n",
    "from sqlalchemy import create_engine, text"
   ]
  },
  {
   "cell_type": "code",
   "execution_count": 60,
   "id": "f5ad3307-6edb-46a8-8e82-6a66d9cc6e92",
   "metadata": {},
   "outputs": [],
   "source": [
    "# Specify the path to your credentials file\n",
    "credentials_file_path = \"/Users/miguelgranica/Documents/MBIT - DE/Modulo 02 - Arquitecturas transaccionales/M02 S05 Proyecto de Consolidacion/app/credentials.json\"\n",
    "\n",
    "# Load credentials from the JSON file\n",
    "with open(credentials_file_path, 'r') as file:\n",
    "    credentials = json.load(file)"
   ]
  },
  {
   "cell_type": "markdown",
   "id": "2f3406c6-c167-4f27-a339-a1c39b69d896",
   "metadata": {},
   "source": [
    "## 1.2 Generate public URL"
   ]
  },
  {
   "cell_type": "code",
   "execution_count": 28,
   "id": "bf42d1ca-9158-4176-bda2-6d2c81c990b6",
   "metadata": {},
   "outputs": [],
   "source": [
    "imagekit = ImageKit(\n",
    "    public_key=credentials[\"imagekit\"][\"public_key\"],\n",
    "    private_key=credentials[\"imagekit\"][\"private_key\"],\n",
    "    url_endpoint =credentials[\"imagekit\"][\"url_endpoint\"]\n",
    ")"
   ]
  },
  {
   "cell_type": "code",
   "execution_count": 29,
   "id": "e87edc77-20aa-4029-ac0c-8122c1724b46",
   "metadata": {},
   "outputs": [],
   "source": [
    "image_path = \"../static/images/3005501.jpg\"\n",
    "with open(image_path, mode=\"rb\") as img:\n",
    "    imgstr = base64.b64encode(img.read())"
   ]
  },
  {
   "cell_type": "code",
   "execution_count": 30,
   "id": "14d5e289-386d-4c07-a752-29b10feeb265",
   "metadata": {},
   "outputs": [],
   "source": [
    "# upload an image\n",
    "upload_info = imagekit.upload(file=imgstr, file_name=\"my_file_name.jpg\")"
   ]
  },
  {
   "cell_type": "code",
   "execution_count": 31,
   "id": "ccab223d-223a-4d03-9d47-5223764c373f",
   "metadata": {},
   "outputs": [
    {
     "data": {
      "text/plain": [
       "imagekitio.models.results.UploadFileResult.UploadFileResult"
      ]
     },
     "execution_count": 31,
     "metadata": {},
     "output_type": "execute_result"
    }
   ],
   "source": [
    "type(upload_info)"
   ]
  },
  {
   "cell_type": "code",
   "execution_count": 32,
   "id": "4da4586a-a1de-42f7-906e-fe9fbcd3b1e8",
   "metadata": {},
   "outputs": [
    {
     "data": {
      "text/plain": [
       "'https://ik.imagekit.io/83tu2lzrih/my_file_name_qTAjoBH_y.jpg'"
      ]
     },
     "execution_count": 32,
     "metadata": {},
     "output_type": "execute_result"
    }
   ],
   "source": [
    "image_url = upload_info.url\n",
    "image_url"
   ]
  },
  {
   "cell_type": "code",
   "execution_count": 33,
   "id": "5216a96f-8bcf-425e-ad6b-19e99b5c28c5",
   "metadata": {},
   "outputs": [
    {
     "data": {
      "text/plain": [
       "str"
      ]
     },
     "execution_count": 33,
     "metadata": {},
     "output_type": "execute_result"
    }
   ],
   "source": [
    "type(upload_info.file_id)\n"
   ]
  },
  {
   "cell_type": "markdown",
   "id": "b8a9be38-1768-47c6-ada4-f9faa3a130a2",
   "metadata": {},
   "source": [
    "## 1.3 Tag Extraction"
   ]
  },
  {
   "cell_type": "code",
   "execution_count": 34,
   "id": "3f3b8060-756f-4038-9167-5bad2a1fd9cf",
   "metadata": {},
   "outputs": [],
   "source": [
    "api_key = credentials[\"imagga\"][\"api_key\"]\n",
    "api_secret = credentials[\"imagga\"][\"api_secret\"]\n",
    "image_url = image_url\n",
    "# \n",
    "min_confidence = 80"
   ]
  },
  {
   "cell_type": "code",
   "execution_count": 35,
   "id": "fb8a96a4-8fd0-4b42-84cc-3298174b5315",
   "metadata": {},
   "outputs": [],
   "source": [
    "response = requests.get(f\"https://api.imagga.com/v2/tags?image_url={image_url}\", auth=(api_key, api_secret))"
   ]
  },
  {
   "cell_type": "code",
   "execution_count": 37,
   "id": "24d485bd-ba22-4544-8a0f-499137c2ffa8",
   "metadata": {},
   "outputs": [],
   "source": [
    "tags = [\n",
    "    {\n",
    "        \"tag\": t[\"tag\"][\"en\"],\n",
    "        \"confidence\": t[\"confidence\"]\n",
    "    }\n",
    "    for t in response.json()[\"result\"][\"tags\"]\n",
    "    if t[\"confidence\"] > min_confidence\n",
    "]"
   ]
  },
  {
   "cell_type": "code",
   "execution_count": 14,
   "id": "c7906223-10c0-4a65-b45c-92c48803de6a",
   "metadata": {},
   "outputs": [
    {
     "data": {
      "text/plain": [
       "[{'tag': 'jersey', 'confidence': 93.545166015625},\n",
       " {'tag': 'shirt', 'confidence': 92.3850555419922}]"
      ]
     },
     "execution_count": 14,
     "metadata": {},
     "output_type": "execute_result"
    }
   ],
   "source": [
    "tags"
   ]
  },
  {
   "cell_type": "markdown",
   "id": "b5a55fbd-2eff-4a12-b1e1-4541ca8dee9e",
   "metadata": {},
   "source": [
    "## 1.4 Delete public URL"
   ]
  },
  {
   "cell_type": "code",
   "execution_count": 38,
   "id": "8bef0a93-99f0-40d8-a117-807b1d2ba887",
   "metadata": {},
   "outputs": [
    {
     "data": {
      "text/plain": [
       "<imagekitio.models.results.ResponseMetadataResult.ResponseMetadataResult at 0x10f6b61d0>"
      ]
     },
     "execution_count": 38,
     "metadata": {},
     "output_type": "execute_result"
    }
   ],
   "source": [
    "# delete an image\n",
    "delete_image = imagekit.delete_file(file_id=upload_info.file_id)\n",
    "delete_image"
   ]
  },
  {
   "cell_type": "code",
   "execution_count": 40,
   "id": "1a97c729-0e27-4976-a188-08a8c8d3c22b",
   "metadata": {},
   "outputs": [
    {
     "name": "stdout",
     "output_type": "stream",
     "text": [
      "\n",
      "None\n"
     ]
    }
   ],
   "source": [
    "# Final Result\n",
    "print()\n",
    "\n",
    "# Raw Response\n",
    "print(delete_image.response_metadata.raw)"
   ]
  },
  {
   "cell_type": "markdown",
   "id": "35fa4226-c320-4a85-8a53-f724d95469f3",
   "metadata": {},
   "source": [
    "## 1.5 File Storage"
   ]
  },
  {
   "cell_type": "code",
   "execution_count": null,
   "id": "9383b90b-3d82-4e9b-9f91-883b248f13b9",
   "metadata": {},
   "outputs": [],
   "source": []
  },
  {
   "cell_type": "markdown",
   "id": "a0653c09-c02f-495d-bf24-000be1e763d0",
   "metadata": {},
   "source": [
    "## 1.6 Database Storage"
   ]
  },
  {
   "cell_type": "markdown",
   "id": "3412938f-111e-4c85-9616-fba2d3448936",
   "metadata": {},
   "source": [
    "- En la tabla `pictures` almacenaremos el path de la imagen que tendrá un id asociado. También almacenaremos la fecha en la que se ha introducido como un string en formato `YYYY-MM-DD HH:MM:SS`.\n",
    "- En la tabla `tags` almacenaremos una fila por cada tag asociado a la imagen, donde tendremos los campos `tag`, `picture_id` (foreign key) y la fecha en la que se ha introducido la imagen como un string en formato `YYYY-MM-DD HH:MM:SS`. También se almacenará qué `confidence` tiene esta tag para la imagen."
   ]
  },
  {
   "cell_type": "code",
   "execution_count": 2,
   "id": "e299c438-86b5-4c26-b837-bffabe4b1c56",
   "metadata": {},
   "outputs": [],
   "source": [
    "# Pictures database\n",
    "host = 'localhost'\n",
    "database = 'Pictures'\n",
    "user = 'mbit'\n",
    "password = 'mbit'"
   ]
  },
  {
   "cell_type": "code",
   "execution_count": 3,
   "id": "13b8a302-b3dc-4e57-90d0-f9d24cfc92d1",
   "metadata": {},
   "outputs": [],
   "source": [
    "# create sqlalchemy engine\n",
    "engine = create_engine(f\"mysql+pymysql://{user}:{password}@{host}/{database}\")"
   ]
  },
  {
   "cell_type": "code",
   "execution_count": 20,
   "id": "12e111c4-42cf-43db-9fa4-6122e2f2cec7",
   "metadata": {},
   "outputs": [
    {
     "data": {
      "text/plain": [
       "'2023-12-27 18:40:13.469287'"
      ]
     },
     "execution_count": 20,
     "metadata": {},
     "output_type": "execute_result"
    }
   ],
   "source": [
    "str(datetime.datetime.now())"
   ]
  },
  {
   "cell_type": "code",
   "execution_count": 35,
   "id": "de9c6cba-fca3-421f-b6cf-f133faa0066a",
   "metadata": {},
   "outputs": [],
   "source": [
    "pictures_table = \"pictures\""
   ]
  },
  {
   "cell_type": "code",
   "execution_count": 22,
   "id": "ffa1bb93-f691-481f-b85a-acac3c36d9cd",
   "metadata": {},
   "outputs": [
    {
     "data": {
      "text/plain": [
       "\"INSERT INTO pictures (id, path, size, date) VALUES ('658c615a88c257da333630c3', '/my_file_name_NLDiFA117.jpg', '59898', '2023-12-27 18:40:59.190548');\""
      ]
     },
     "execution_count": 22,
     "metadata": {},
     "output_type": "execute_result"
    }
   ],
   "source": [
    "insert_stmt = f\"INSERT INTO {pictures_table} (id, path, size, date) VALUES ('{upload_info.file_id}', '{upload_info.file_path}', '{upload_info.size}', '{str(datetime.datetime.now())}');\"\n",
    "insert_stmt"
   ]
  },
  {
   "cell_type": "code",
   "execution_count": 23,
   "id": "5fca22f3-8ba7-48bf-a7df-3eb35241d156",
   "metadata": {},
   "outputs": [],
   "source": [
    "with engine.connect() as conn:\n",
    "    conn.execute(text(insert_stmt))\n",
    "    conn.commit()"
   ]
  },
  {
   "cell_type": "code",
   "execution_count": 36,
   "id": "a6e6b131-85a1-409f-bc5a-2cc378137ea3",
   "metadata": {},
   "outputs": [],
   "source": [
    "with engine.connect() as conn:\n",
    "    result=conn.execute(text(\"SELECT * FROM pictures\"))\n",
    "    columns = result.keys()\n",
    "    data = [\n",
    "        dict(zip(columns, row))\n",
    "        for row in result\n",
    "    ]"
   ]
  },
  {
   "cell_type": "code",
   "execution_count": 37,
   "id": "cdd75b83-bef8-4462-ab2a-65eec0d51363",
   "metadata": {},
   "outputs": [
    {
     "data": {
      "text/plain": [
       "[{'id': '658c615a88c257da333630c3',\n",
       "  'path': '/my_file_name_NLDiFA117.jpg',\n",
       "  'size': 59898,\n",
       "  'date': '2023-12-27 18:40:59.190548'},\n",
       " {'id': '658c768088c257da3396084a',\n",
       "  'path': '/my_file_name_4Ti0Hwbt0.jpg',\n",
       "  'size': 260284,\n",
       "  'date': '2023-12-27 20:09:51.595350'}]"
      ]
     },
     "execution_count": 37,
     "metadata": {},
     "output_type": "execute_result"
    }
   ],
   "source": [
    "data"
   ]
  },
  {
   "cell_type": "code",
   "execution_count": 38,
   "id": "868eb457-2931-4de6-8ddf-3b3f27542e99",
   "metadata": {},
   "outputs": [],
   "source": [
    "tags_table = \"tags\""
   ]
  },
  {
   "cell_type": "code",
   "execution_count": 29,
   "id": "44eef6f9-885c-4eb9-8b70-97640156abcb",
   "metadata": {},
   "outputs": [],
   "source": [
    "for tag in tags:\n",
    "    tag, confidence = tag[\"tag\"], tag[\"confidence\"]\n",
    "    insert_stmt = f\"INSERT INTO {tags_table} (tag, picture_id, confidence, date) VALUES ('{tag}', '{upload_info.file_id}', '{confidence}', '{datetime.datetime.now()}');\"\n",
    "    with engine.connect() as conn:\n",
    "        conn.execute(text(insert_stmt))\n",
    "        conn.commit()"
   ]
  },
  {
   "cell_type": "code",
   "execution_count": 40,
   "id": "c9420126-2a7e-4ccc-9a9d-6586f9562af9",
   "metadata": {},
   "outputs": [],
   "source": [
    "with engine.connect() as conn:\n",
    "    result=conn.execute(text(\"SELECT * FROM tags\"))\n",
    "    columns = result.keys()\n",
    "    data = [\n",
    "        dict(zip(columns, row))\n",
    "        for row in result\n",
    "    ]"
   ]
  },
  {
   "cell_type": "code",
   "execution_count": 41,
   "id": "f722d4e8-a5a4-440f-a80c-6b91132b75de",
   "metadata": {},
   "outputs": [
    {
     "data": {
      "text/plain": [
       "[{'tag': 'architecture',\n",
       "  'picture_id': '658c768088c257da3396084a',\n",
       "  'confidence': 98,\n",
       "  'date': '2023-12-27 20:09:51.595350'},\n",
       " {'tag': 'jersey',\n",
       "  'picture_id': '658c615a88c257da333630c3',\n",
       "  'confidence': 94,\n",
       "  'date': '2023-12-27 18:41:29.786316'},\n",
       " {'tag': 'palace',\n",
       "  'picture_id': '658c768088c257da3396084a',\n",
       "  'confidence': 77,\n",
       "  'date': '2023-12-27 20:09:51.595350'},\n",
       " {'tag': 'shirt',\n",
       "  'picture_id': '658c615a88c257da333630c3',\n",
       "  'confidence': 92,\n",
       "  'date': '2023-12-27 18:41:29.800547'}]"
      ]
     },
     "execution_count": 41,
     "metadata": {},
     "output_type": "execute_result"
    }
   ],
   "source": [
    "data"
   ]
  },
  {
   "cell_type": "markdown",
   "id": "95e0c292-e5f3-41ae-b37e-dc892f51ae17",
   "metadata": {},
   "source": [
    "##"
   ]
  },
  {
   "cell_type": "markdown",
   "id": "c9b77c76-3e3c-4484-b9ed-c05019e8bbae",
   "metadata": {},
   "source": [
    "# 2. GET Images"
   ]
  },
  {
   "cell_type": "markdown",
   "id": "5f6d6406-8ad4-4fc2-b555-2d01d0c6369d",
   "metadata": {},
   "source": [
    "#### GET images\n",
    "\n",
    "Este endpoint sirve para obtener una lista de imágenes que cumplan un filtro. Se proporcionará mediante _query parameters_ la siguiente información:\n",
    "\n",
    "- `min_date`/`max_date`: opcionalmente se puede indicar una fecha mínima y máxima, en formato `YYYY-MM-DD HH:MM:SS`, para obtener imágenes cuya fecha de registro esté entre ambos valores. Si no se proporciona `min_date` no se filtrará ninguna fecha inferiormente. Si no se proporciona `max_date` no se filtrará ninguna fecha superiormente.\n",
    "\n",
    "- `tags`: optionalmente se puede indicar una lista de tags. Las imágenes devueltas serán aquellas que incluyan **todas** las tags indicadas. El formato de este campo será un string donde las tags estarán separadas por comas, por ejemplo `\"tag1,tag2,tag3\"`. Si no se proporciona ninguna tag, no se devolverá ninguna imagen.\n",
    "\n",
    "La **respuesta** del endpoint será una lista de objetos imagen con los siguientes campos:\n",
    "\n",
    "- `id`: identificador de la imagen\n",
    "- `size`: tamaño de la imagen en KB\n",
    "- `date`: fecha en la que se registró la imagen, en formato `YYYY-MM-DD HH:MM:SS`\n",
    "- `tags`: lista de objetos identificando las tags asociadas a la imágen. Cada objeto tendrá el siguiente formato:\n",
    "    - `tag`: nombre de la tag\n",
    "    - `confidence`: confianza con la que la etiqueta está asociada a la imagen"
   ]
  },
  {
   "cell_type": "markdown",
   "id": "caa89110-718b-4751-af44-4f3ba8d081a3",
   "metadata": {},
   "source": [
    "## 2.1 Parameters"
   ]
  },
  {
   "cell_type": "code",
   "execution_count": 19,
   "id": "5fccb1d4-c7a1-4754-89d9-a5e786b0130e",
   "metadata": {},
   "outputs": [],
   "source": [
    "min_date = '2023-12-27 18:45:59'\n",
    "max_date = None #datetime.date(2023, 12, 18)\n",
    "tags = ['architecture', 'palace']"
   ]
  },
  {
   "cell_type": "code",
   "execution_count": 8,
   "id": "55ceb178-3c8e-471d-bd16-c21e8fa79982",
   "metadata": {},
   "outputs": [
    {
     "data": {
      "text/plain": [
       "False"
      ]
     },
     "execution_count": 8,
     "metadata": {},
     "output_type": "execute_result"
    }
   ],
   "source": [
    "all([min_date, max_date])"
   ]
  },
  {
   "cell_type": "markdown",
   "id": "befe9a25-d897-4523-807a-d09b92469d38",
   "metadata": {},
   "source": [
    "## 2.2 Get Images"
   ]
  },
  {
   "cell_type": "code",
   "execution_count": 15,
   "id": "55f1508b-948a-4a4e-90df-0f51fe0d4feb",
   "metadata": {},
   "outputs": [],
   "source": [
    "def get_images(min_date=None, max_date=None , tags=None):\n",
    "    sql_query = \"\"\"\n",
    "        SELECT p.id, p.size, p.date,\n",
    "            GROUP_CONCAT(t.tag) AS tags,\n",
    "            GROUP_CONCAT(t.confidence) AS confidences\n",
    "        FROM pictures p\n",
    "        JOIN tags t ON p.id = t.picture_id\n",
    "        WHERE 1=1\n",
    "    \"\"\"\n",
    "\n",
    "    # Conditionally filters based on parameters\n",
    "    params = {}\n",
    "    if min_date is not None:\n",
    "        sql_query += \" AND p.date > :min_date\"\n",
    "        params[\"min_date\"] = min_date\n",
    "    if max_date is not None:\n",
    "        sql_query += \" AND p.date < :max_date\"\n",
    "        params[\"max_date\"] = max_date\n",
    "    if tags is not None:\n",
    "        sql_query += \" AND t.tags IN :tags\"\n",
    "        params[\"tags\"]: \", \".join(tags)\n",
    "\n",
    "    # Group by id, date, and size\n",
    "    sql_query += \" GROUP BY p.id, p.date, p.size\"\n",
    "\n",
    "    # Execute the query and return the results\n",
    "    with engine.connect() as conn:\n",
    "        result = conn.execute(text(sql_query), params)\n",
    "    columns = result.keys()\n",
    "    data = [\n",
    "        {**{key: value for key, value in i.items() if key not in [\"tags\", \"confidences\"]},\n",
    "         \"tags\": {key: value for key, value in i.items() if key in [\"tags\", \"confidences\"]}}\n",
    "        for i in [ \n",
    "            dict(zip(columns, row)) for row in result\n",
    "        ]\n",
    "    ]\n",
    "    return data"
   ]
  },
  {
   "cell_type": "code",
   "execution_count": null,
   "id": "3459ddd9-6558-4a96-91a1-73c611a906ca",
   "metadata": {},
   "outputs": [],
   "source": []
  },
  {
   "cell_type": "code",
   "execution_count": 53,
   "id": "4342232a-fa1b-486a-8cd2-71371ba6b60b",
   "metadata": {},
   "outputs": [],
   "source": [
    "#Params definitions\n",
    "min_date = '2023-12-27 18:45:59'\n",
    "max_date = '2024-01-05 18:45:59'\n",
    "tags = [\"python\"]\n",
    "\n",
    "sql_query = \"\"\"\n",
    "        SELECT p.id, p.size, p.date,\n",
    "            GROUP_CONCAT(t.tag) AS tags,\n",
    "            GROUP_CONCAT(t.confidence) AS confidences\n",
    "        FROM pictures p\n",
    "        JOIN tags t ON p.id = t.picture_id\n",
    "        WHERE 1=1\n",
    "    \"\"\"\n",
    "\n",
    "    # Conditionally filters based on parameters\n",
    "params = {}\n",
    "if min_date is not None:\n",
    "    sql_query += \" AND p.date > :min_date\"\n",
    "    params[\"min_date\"] = min_date\n",
    "if max_date is not None:\n",
    "    sql_query += \" AND p.date < :max_date\"\n",
    "    params[\"max_date\"] = max_date\n",
    "if tags is not None:\n",
    "    sql_query += \" AND t.tag IN :tags\"\n",
    "    params[\"tags\"] = tags\n",
    "\n",
    "# Group by id, date, and size\n",
    "sql_query += \" GROUP BY p.id, p.date, p.size\"\n",
    "\n",
    "# Context manager to execute the query and return the results\n",
    "with engine.connect() as conn:\n",
    "    result = conn.execute(text(sql_query), params)\n"
   ]
  },
  {
   "cell_type": "code",
   "execution_count": 56,
   "id": "a7922d8c-dcb3-44af-be0a-7a29cd593ea5",
   "metadata": {},
   "outputs": [
    {
     "data": {
      "text/plain": [
       "True"
      ]
     },
     "execution_count": 56,
     "metadata": {},
     "output_type": "execute_result"
    }
   ],
   "source": [
    "result.rowcount == 0"
   ]
  },
  {
   "cell_type": "code",
   "execution_count": 17,
   "id": "25894555-2b54-4c8d-a1dc-a889b055fc3c",
   "metadata": {},
   "outputs": [
    {
     "data": {
      "text/plain": [
       "[{'id': '658c615a88c257da333630c3',\n",
       "  'size': 59898,\n",
       "  'date': '2023-12-27 18:40:59.190548',\n",
       "  'tags': {'tags': 'jersey,shirt', 'confidences': '94,92'}},\n",
       " {'id': '658c768088c257da3396084a',\n",
       "  'size': 260284,\n",
       "  'date': '2023-12-27 20:09:51.595350',\n",
       "  'tags': {'tags': 'architecture,palace', 'confidences': '98,77'}},\n",
       " {'id': '658f24b888c257da3335e5b7',\n",
       "  'size': 260284,\n",
       "  'date': '2023-12-29 20:57:43.592105',\n",
       "  'tags': {'tags': 'architecture,palace', 'confidences': '98,77'}},\n",
       " {'id': '659050c088c257da3341140e',\n",
       "  'size': 90037,\n",
       "  'date': '2023-12-30 18:17:51.852108',\n",
       "  'tags': {'tags': 'microwave,stove', 'confidences': '82,100'}},\n",
       " {'id': '659051e988c257da334454ea',\n",
       "  'size': 5293488,\n",
       "  'date': '2023-12-30 18:22:46.410381',\n",
       "  'tags': {'tags': 'beer glass,container,glass',\n",
       "   'confidences': '100,100,100'}},\n",
       " {'id': '659053f288c257da334d0b93',\n",
       "  'size': 5293488,\n",
       "  'date': '2023-12-30 18:31:26.547299',\n",
       "  'tags': {'tags': 'beer glass,container,glass',\n",
       "   'confidences': '100,100,100'}},\n",
       " {'id': '6592ff7488c257da33ec6f99',\n",
       "  'size': 5293488,\n",
       "  'date': '2024-01-01 18:07:45.324783',\n",
       "  'tags': {'tags': 'beer glass,container,glass',\n",
       "   'confidences': '100,100,100'}},\n",
       " {'id': '6592ffce88c257da33f22eb9',\n",
       "  'size': 5293488,\n",
       "  'date': '2024-01-01 18:09:15.388671',\n",
       "  'tags': {'tags': 'beer glass,container,glass',\n",
       "   'confidences': '100,100,100'}},\n",
       " {'id': '6593011888c257da33f8ae17',\n",
       "  'size': 5293488,\n",
       "  'date': '2024-01-01 18:14:44.626079',\n",
       "  'tags': {'tags': 'beer glass,container,glass',\n",
       "   'confidences': '100,100,100'}},\n",
       " {'id': '6593028288c257da33fde02e',\n",
       "  'size': 5293488,\n",
       "  'date': '2024-01-01 18:20:47.418378',\n",
       "  'tags': {'tags': 'beer glass,container,glass',\n",
       "   'confidences': '100,100,100'}},\n",
       " {'id': '6593059688c257da330a8806',\n",
       "  'size': 5293488,\n",
       "  'date': '2024-01-01 18:33:55.417583',\n",
       "  'tags': {'tags': 'beer glass,container,glass',\n",
       "   'confidences': '100,100,100'}},\n",
       " {'id': '6593081f88c257da3314e37a',\n",
       "  'size': 5293488,\n",
       "  'date': '2024-01-01 18:44:44.589245',\n",
       "  'tags': {'tags': 'beer glass,container,glass',\n",
       "   'confidences': '100,100,100'}},\n",
       " {'id': '65930afa88c257da331f5ecf',\n",
       "  'size': 5293488,\n",
       "  'date': '2024-01-01 18:56:55.124600',\n",
       "  'tags': {'tags': 'beer glass,container,glass',\n",
       "   'confidences': '100,100,100'}},\n",
       " {'id': '65930d4388c257da332a04aa',\n",
       "  'size': 5293488,\n",
       "  'date': '2024-01-01 19:06:40.414606',\n",
       "  'tags': {'tags': 'beer glass,container,glass',\n",
       "   'confidences': '100,100,100'}},\n",
       " {'id': '65931e5988c257da336b6bdd',\n",
       "  'size': 5293488,\n",
       "  'date': '2024-01-01 20:19:34.734283',\n",
       "  'tags': {'tags': 'beer glass,container,glass',\n",
       "   'confidences': '100,100,100'}},\n",
       " {'id': '6593242088c257da337d3dbe',\n",
       "  'size': 5293488,\n",
       "  'date': '2024-01-01 20:44:12.867376',\n",
       "  'tags': {'tags': 'beer glass,container,glass',\n",
       "   'confidences': '100,100,100'}},\n",
       " {'id': '659324d588c257da337ee901',\n",
       "  'size': 5293488,\n",
       "  'date': '2024-01-01 20:47:14.201018',\n",
       "  'tags': {'tags': 'beer glass,container,glass',\n",
       "   'confidences': '100,100,100'}},\n",
       " {'id': '6593343d88c257da33ada9ee',\n",
       "  'size': 5293488,\n",
       "  'date': '2024-01-01 21:52:58.732691',\n",
       "  'tags': {'tags': 'beer glass,container,glass',\n",
       "   'confidences': '100,100,100'}},\n",
       " {'id': '659334e988c257da33afb47f',\n",
       "  'size': 5293488,\n",
       "  'date': '2024-01-01 21:55:50.921238',\n",
       "  'tags': {'tags': 'beer glass,container,glass',\n",
       "   'confidences': '100,100,100'}},\n",
       " {'id': '659336cd88c257da33b4e088',\n",
       "  'size': 5293488,\n",
       "  'date': '2024-01-01 22:03:54.974128',\n",
       "  'tags': {'tags': 'beer glass,container,glass',\n",
       "   'confidences': '100,100,100'}},\n",
       " {'id': '6593370788c257da33b530e3',\n",
       "  'size': 5293488,\n",
       "  'date': '2024-01-01 22:04:52.076941',\n",
       "  'tags': {'tags': 'alcohol,beer,beer glass,container,drink,glass',\n",
       "   'confidences': '59,58,100,100,61,100'}},\n",
       " {'id': '6593389188c257da33bd7637',\n",
       "  'size': 5293488,\n",
       "  'date': '2024-01-01 22:11:26.302869',\n",
       "  'tags': {'tags': 'beer glass,container,glass',\n",
       "   'confidences': '100,100,100'}},\n",
       " {'id': '659338a188c257da33bd92ef',\n",
       "  'size': 5293488,\n",
       "  'date': '2024-01-01 22:11:42.089320',\n",
       "  'tags': {'tags': 'beer glass,container,glass',\n",
       "   'confidences': '100,100,100'}},\n",
       " {'id': '65933b0288c257da33c2841f',\n",
       "  'size': 5293488,\n",
       "  'date': '2024-01-01 22:21:51.533463',\n",
       "  'tags': {'tags': 'beer glass,container,glass',\n",
       "   'confidences': '100,100,100'}},\n",
       " {'id': '65933efe88c257da33cb9cb8',\n",
       "  'size': 5293488,\n",
       "  'date': '2024-01-01 22:38:51.059107',\n",
       "  'tags': {'tags': 'beer glass,container,glass',\n",
       "   'confidences': '100,100,100'}},\n",
       " {'id': '6593436188c257da33d4aa0d',\n",
       "  'size': 5293488,\n",
       "  'date': '2024-01-01 22:57:34.439872',\n",
       "  'tags': {'tags': 'beer glass,container,glass',\n",
       "   'confidences': '100,100,100'}},\n",
       " {'id': '659343a388c257da33d54bbd',\n",
       "  'size': 5293488,\n",
       "  'date': '2024-01-01 22:58:40.041058',\n",
       "  'tags': {'tags': 'beer glass,container,glass',\n",
       "   'confidences': '100,100,100'}},\n",
       " {'id': '659ab72b88c257da33876010',\n",
       "  'size': 5293488,\n",
       "  'date': '2024-01-07 14:37:29.119928',\n",
       "  'tags': {'tags': 'beer glass,container,glass',\n",
       "   'confidences': '100,100,100'}},\n",
       " {'id': '659ac42f88c257da33c607cc',\n",
       "  'size': 5293488,\n",
       "  'date': '2024-01-07 15:33:00.327022',\n",
       "  'tags': {'tags': 'beer glass,container,glass',\n",
       "   'confidences': '100,100,100'}},\n",
       " {'id': '659ad9a588c257da332507b7',\n",
       "  'size': 5293488,\n",
       "  'date': '2024-01-07 17:04:34.328929',\n",
       "  'tags': {'tags': 'beer glass,container,glass',\n",
       "   'confidences': '100,100,100'}},\n",
       " {'id': '659adc3288c257da3332dfd4',\n",
       "  'size': 5293488,\n",
       "  'date': '2024-01-07 17:15:26.753867',\n",
       "  'tags': {'tags': 'beer glass,container,glass',\n",
       "   'confidences': '100,100,100'}},\n",
       " {'id': '659aed6f88c257da33775823',\n",
       "  'size': 5293488,\n",
       "  'date': '2024-01-07 18:28:59.875449',\n",
       "  'tags': {'tags': 'beer glass,container,glass',\n",
       "   'confidences': '100,100,100'}},\n",
       " {'id': '659af04388c257da338194c5',\n",
       "  'size': 5293488,\n",
       "  'date': '2024-01-07 18:41:03.916864',\n",
       "  'tags': {'tags': 'beer glass,container,glass',\n",
       "   'confidences': '100,100,100'}},\n",
       " {'id': '659af5d488c257da33952b2a',\n",
       "  'size': 5293488,\n",
       "  'date': '2024-01-07 19:04:48.516463',\n",
       "  'tags': {'tags': 'beer glass,container,glass',\n",
       "   'confidences': '100,100,100'}}]"
      ]
     },
     "execution_count": 17,
     "metadata": {},
     "output_type": "execute_result"
    }
   ],
   "source": [
    "images = get_images()\n",
    "images"
   ]
  },
  {
   "cell_type": "markdown",
   "id": "c7e55535-3a17-4f65-ae1b-abed6aafd5a3",
   "metadata": {},
   "source": [
    "# 3. Get Image"
   ]
  },
  {
   "cell_type": "markdown",
   "id": "6a91f902-15cf-4cbd-a7ad-d9065c9c4238",
   "metadata": {},
   "source": [
    "Este endpoint sirve para descargarse una imágen y sus propiedades. Se proporcionará mediante _path parameter_ el id de la imagen y se la **respuesta** será un json con los siguientes campos:\n",
    "\n",
    "- `id`: identificador de la imagen\n",
    "- `size`: tamaño de la imagen en KB\n",
    "- `date`: fecha en la que se registró la imagen, en formato `YYYY-MM-DD HH:MM:SS`\n",
    "- `tags`: lista de objetos identificando las tags asociadas a la imágen. Cada objeto tendrá el siguiente formato:\n",
    "    - `tag`: nombre de la tag\n",
    "    - `confidence`: confianza con la que la etiqueta está asociada a la imagen\n",
    "- `data`: imagen como string codificado en base64"
   ]
  },
  {
   "cell_type": "code",
   "execution_count": 207,
   "id": "f087ac8e-6f14-4f7f-a198-71ce9274230b",
   "metadata": {},
   "outputs": [],
   "source": [
    "id = '658c615a88c257da333630c3'"
   ]
  },
  {
   "cell_type": "code",
   "execution_count": 215,
   "id": "6256224e-fd9b-4829-852f-350949fa7b22",
   "metadata": {},
   "outputs": [],
   "source": [
    "def get_image(engine, picture_id):\n",
    "    sql_query = \"\"\"\n",
    "        SELECT p.id, p.size, p.date,\n",
    "            GROUP_CONCAT(t.tag) AS tags,\n",
    "            GROUP_CONCAT(t.confidence) AS confidences\n",
    "        FROM pictures p\n",
    "        JOIN tags t ON p.id = t.picture_id\n",
    "        WHERE p.id = :picture_id\n",
    "    \"\"\"\n",
    "    # set params\n",
    "    params = dict(picture_id=picture_id)\n",
    "    # Execute the query and return the results\n",
    "    with engine.connect() as conn:\n",
    "        result = conn.execute(text(sql_query), params)\n",
    "    # Format response\n",
    "    columns = result.keys()\n",
    "    response = [\n",
    "        {**{key: value for key, value in i.items() if key not in [\"tags\", \"confidences\"]},\n",
    "         \"tags\": {key: value for key, value in i.items() if key in [\"tags\", \"confidences\"]}}\n",
    "        for i in [ \n",
    "            dict(zip(columns, row)) for row in result\n",
    "        ]\n",
    "    ]\n",
    "    return response[0]\n",
    "    \n",
    "    "
   ]
  },
  {
   "cell_type": "code",
   "execution_count": 216,
   "id": "b9870d39-348a-4765-a6c5-7d24c95d53c2",
   "metadata": {},
   "outputs": [],
   "source": [
    "res = get_image(engine, id)"
   ]
  },
  {
   "cell_type": "code",
   "execution_count": 217,
   "id": "a3537180-92c3-4734-9d55-d1db82659999",
   "metadata": {},
   "outputs": [
    {
     "data": {
      "text/plain": [
       "{'id': '658c615a88c257da333630c3',\n",
       " 'size': 59898,\n",
       " 'date': '2023-12-27 18:40:59.190548',\n",
       " 'tags': {'tags': 'jersey,shirt', 'confidences': '94,92'}}"
      ]
     },
     "execution_count": 217,
     "metadata": {},
     "output_type": "execute_result"
    }
   ],
   "source": [
    "res"
   ]
  },
  {
   "cell_type": "markdown",
   "id": "d08c69c9-1248-40ae-b7f9-7b88ba55a698",
   "metadata": {},
   "source": [
    "# 4. Get Tags"
   ]
  },
  {
   "cell_type": "markdown",
   "id": "dc1bbfa6-d9e5-4f9f-a84f-dcdbc32e1b5e",
   "metadata": {},
   "source": [
    "Este endpoint sirve para obtener una lista de tags (teniendo en cuenta cualquier tag asignada a una imagen registrada) que cumplan un filtro. Se proporcionará mediante _query parameters_ la siguiente información:\n",
    "\n",
    "- `min_date`/`max_date`: opcionalmente se puede indicar una fecha mínima y máxima, en formato `YYYY-MM-DD HH:MM:SS`, para obtener imágenes cuya fecha de registro esté entre ambos valores. Si no se proporciona `min_date` no se filtrará ningúna fecha inferiormente. Si no se proporciona `max_date` no se filtrará ningúna fecha superiormente.\n",
    "\n",
    "El endpoint devolvera una respuesta que será una lista de objetos imagen con los siguientes campos:\n",
    "\n",
    "- `tag`: nombre de la etiqueta\n",
    "- `n_images`: número de imágenes que tienen asociada esta tag\n",
    "- `min_confidence`, `max_confidence`, `mean_confidence`: confianza mínima, máxima y media de esta tag para todas las imágenes con las que está asignada\n",
    "las dos APIs utilizadas."
   ]
  },
  {
   "cell_type": "markdown",
   "id": "32f4250b-7a04-49de-afb2-7120981e1b0c",
   "metadata": {},
   "source": [
    "## 4.1 "
   ]
  },
  {
   "cell_type": "code",
   "execution_count": 4,
   "id": "f5ee3cad-7ff3-40ad-a26f-01ff40db17a6",
   "metadata": {},
   "outputs": [],
   "source": [
    "def get_tags(min_date=None, max_date=None):\n",
    "    sql_query = \"\"\"\n",
    "        SELECT t.tag tag,\n",
    "            COUNT(DISTINCT(t.picture_id)) n_images,\n",
    "            MIN(t.confidence) min_confidence,\n",
    "            MAX(t.confidence) max_confidence,\n",
    "            AVG(t.confidence) mean_confidence\n",
    "        FROM tags t\n",
    "        JOIN pictures p ON t.picture_id = p.id\n",
    "        WHERE 1=1\n",
    "    \"\"\"\n",
    "\n",
    "    # Conditionally filters based on parameters\n",
    "    params = {}\n",
    "    if min_date is not None:\n",
    "        sql_query += \" AND p.date > :min_date\"\n",
    "        params[\"min_date\"] = min_date\n",
    "    if max_date is not None:\n",
    "        sql_query += \" AND p.date < :max_date\"\n",
    "        params[\"max_date\"] = max_date\n",
    "\n",
    "    # Group by id, date, and size\n",
    "    sql_query += \" GROUP BY t.tag\"\n",
    "\n",
    "    # Execute the query and return the results\n",
    "    with engine.connect() as conn:\n",
    "        result = conn.execute(text(sql_query), params)\n",
    "    columns = result.keys()\n",
    "    data = [\n",
    "        dict(zip(columns, row))\n",
    "        for row in result\n",
    "    ]\n",
    "    return data"
   ]
  },
  {
   "cell_type": "code",
   "execution_count": 9,
   "id": "0354b758-8ef8-4b74-b507-395406b016b7",
   "metadata": {},
   "outputs": [],
   "source": [
    "min_date = '2023-12-27 18:45:59'\n",
    "max_date = '2023-12-28 18:45:59'"
   ]
  },
  {
   "cell_type": "code",
   "execution_count": 10,
   "id": "f5a043b2-d1b3-417d-8b7c-b893a0c70cdc",
   "metadata": {},
   "outputs": [
    {
     "data": {
      "text/plain": [
       "[{'tag': 'architecture',\n",
       "  'n_images': 1,\n",
       "  'min_confidence': 98,\n",
       "  'max_confidence': 98,\n",
       "  'mean_confidence': Decimal('98.0000')},\n",
       " {'tag': 'palace',\n",
       "  'n_images': 1,\n",
       "  'min_confidence': 77,\n",
       "  'max_confidence': 77,\n",
       "  'mean_confidence': Decimal('77.0000')}]"
      ]
     },
     "execution_count": 10,
     "metadata": {},
     "output_type": "execute_result"
    }
   ],
   "source": [
    "get_tags(min_date, max_date)"
   ]
  },
  {
   "cell_type": "code",
   "execution_count": null,
   "id": "7ee8546a-e8b9-4476-a86d-dbec07419f2e",
   "metadata": {},
   "outputs": [],
   "source": []
  }
 ],
 "metadata": {
  "kernelspec": {
   "display_name": "Python 3 (ipykernel)",
   "language": "python",
   "name": "python3"
  },
  "language_info": {
   "codemirror_mode": {
    "name": "ipython",
    "version": 3
   },
   "file_extension": ".py",
   "mimetype": "text/x-python",
   "name": "python",
   "nbconvert_exporter": "python",
   "pygments_lexer": "ipython3",
   "version": "3.10.11"
  }
 },
 "nbformat": 4,
 "nbformat_minor": 5
}
